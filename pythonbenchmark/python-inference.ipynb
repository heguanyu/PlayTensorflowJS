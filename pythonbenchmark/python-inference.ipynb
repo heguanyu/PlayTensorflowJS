{
 "cells": [
  {
   "cell_type": "markdown",
   "id": "5e93843d-b42b-49bc-b53b-3adc743dc52a",
   "metadata": {},
   "source": [
    "# Load Tensor Flow Lite Test Model And Run Inference on Test Data\n",
    "Test Model and Data copied from here\n",
    "https://jira01.corp.linkedin.com:8443/browse/MID-5889?focusedCommentId=22945746&page=com.atlassian.jira.plugin.system.issuetabpanels%3Acomment-tabpanel#comment-22945746"
   ]
  },
  {
   "cell_type": "code",
   "execution_count": 46,
   "id": "f313b046-186b-499f-8be0-5edc9b8dd1d9",
   "metadata": {},
   "outputs": [
    {
     "ename": "TypeError",
     "evalue": "dump() missing 1 required positional argument: 'fp'",
     "output_type": "error",
     "traceback": [
      "\u001B[0;31m---------------------------------------------------------------------------\u001B[0m",
      "\u001B[0;31mTypeError\u001B[0m                                 Traceback (most recent call last)",
      "Input \u001B[0;32mIn [46]\u001B[0m, in \u001B[0;36m<cell line: 31>\u001B[0;34m()\u001B[0m\n\u001B[1;32m     29\u001B[0m   \u001B[38;5;66;03m#print (\"Test \", i, \", predicted \", np.float32(predictions.loc[i]), \", inferred \", inferred)\u001B[39;00m\n\u001B[1;32m     30\u001B[0m   inferred_results[i]\u001B[38;5;241m=\u001B[39minferred\n\u001B[0;32m---> 31\u001B[0m \u001B[38;5;28mprint\u001B[39m (\u001B[43mjson\u001B[49m\u001B[38;5;241;43m.\u001B[39;49m\u001B[43mdump\u001B[49m\u001B[43m(\u001B[49m\u001B[43minferred_results\u001B[49m\u001B[43m)\u001B[49m)\n\u001B[1;32m     32\u001B[0m \u001B[38;5;28;01mwith\u001B[39;00m \u001B[38;5;28mopen\u001B[39m(\u001B[38;5;124m'\u001B[39m\u001B[38;5;124mpython-inferred-results.json\u001B[39m\u001B[38;5;124m'\u001B[39m, \u001B[38;5;124m'\u001B[39m\u001B[38;5;124mw\u001B[39m\u001B[38;5;124m'\u001B[39m) \u001B[38;5;28;01mas\u001B[39;00m outfile:\n\u001B[1;32m     33\u001B[0m     outfile\u001B[38;5;241m.\u001B[39mwrite(json\u001B[38;5;241m.\u001B[39mdump(inferred_results))\n",
      "\u001B[0;31mTypeError\u001B[0m: dump() missing 1 required positional argument: 'fp'"
     ]
    }
   ],
   "source": [
    "import numpy as np\n",
    "import tensorflow as tf\n",
    "import pandas as pd\n",
    "import json\n",
    "\n",
    "# Load the TFLite model and allocate tensors.\n",
    "interpreter = tf.lite.Interpreter(model_path=\"native_tflite_model_from_mid_dummy_data_20220621.tflite\")\n",
    "interpreter.allocate_tensors()\n",
    "\n",
    "# Get input and output tensors.\n",
    "input_details = interpreter.get_input_details()\n",
    "output_details = interpreter.get_output_details()\n",
    "\n",
    "# Load test data - note: Test data includes a prediction column already.\n",
    "# Compare our inference with the included inference\n",
    "df = pd.read_json(\"test_data_20220621.txt\", orient=\"records\", lines=True)\n",
    "columns_to_drop = ['label']\n",
    "df.drop(columns=columns_to_drop, inplace=True)\n",
    "predictions = df.pop(\"prediction\")\n",
    "\n",
    "# infer score for each test and write scores to file\n",
    "inferred_results = {}\n",
    "for i in range(len(df)):\n",
    "  input_data = np.array(df.loc[[i]], dtype= np.float32)\n",
    "  interpreter.set_tensor(input_details[0]['index'], input_data)\n",
    "  interpreter.invoke()\n",
    "  output_data = interpreter.get_tensor(output_details[0]['index'])\n",
    "  inferred = output_data[0][0]\n",
    "  #print (\"Test \", i, \", predicted \", np.float32(predictions.loc[i]), \", inferred \", inferred)\n",
    "  inferred_results[i]=inferred\n",
    "print (json.dump(inferred_results))\n",
    "with open('python-inferred-results.json', 'w') as outfile:\n",
    "    outfile.write(json.dump(inferred_results))\n"
   ]
  },
  {
   "cell_type": "code",
   "execution_count": null,
   "id": "77186793-7042-49ff-b6f6-c01a842c0bc6",
   "metadata": {},
   "outputs": [],
   "source": []
  }
 ],
 "metadata": {
  "kernelspec": {
   "display_name": "Python 3 (ipykernel)",
   "language": "python",
   "name": "python3"
  },
  "language_info": {
   "codemirror_mode": {
    "name": "ipython",
    "version": 3
   },
   "file_extension": ".py",
   "mimetype": "text/x-python",
   "name": "python",
   "nbconvert_exporter": "python",
   "pygments_lexer": "ipython3",
   "version": "3.8.9"
  }
 },
 "nbformat": 4,
 "nbformat_minor": 5
}